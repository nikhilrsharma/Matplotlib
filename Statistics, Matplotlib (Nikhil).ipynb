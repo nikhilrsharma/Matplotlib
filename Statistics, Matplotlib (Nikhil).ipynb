{
 "cells": [
  {
   "cell_type": "code",
   "execution_count": 65,
   "metadata": {},
   "outputs": [
    {
     "name": "stdout",
     "output_type": "stream",
     "text": [
      "Method-1:\n",
      "Sum: 71 \n",
      "Length: 20\n",
      "Mean value: 3.55\n",
      "-----------------\n",
      "Method-2:\n",
      "Unique Elements: [ 0  1  2  3  4  5  6  7  8 15] \n",
      "Freq: [2 2 7 2 2 1 1 1 1 1]\n",
      "Mean value: 3.55\n",
      "-----------------\n",
      "Mean value: 3.55\n",
      "-----------------\n"
     ]
    }
   ],
   "source": [
    "import numpy as np\n",
    "import pandas as pd\n",
    "\n",
    "no_of_children= np.array([2 , 3 , 2 , 2 , 2 , 0 , 0 , 1 , 1, 4, 3, 2, 8, 5, 6, 7 , 4, 15 , 2, 2])\n",
    "\n",
    "# Finding Mean\n",
    "\n",
    "#1st method for mean\n",
    "sum_all = np.sum(no_of_children)\n",
    "n = len(no_of_children)\n",
    "mean_value =  sum_all / n\n",
    "print(f\"Method-1:\\nSum: {sum_all} \\nLength: {n}\\nMean value: {mean_value}\\n-----------------\")\n",
    "\n",
    "#2nd method for mean\n",
    "unique_elements, freq = np.unique(no_of_children, return_counts = True)\n",
    "n = np.sum(freq)\n",
    "mean_value = np.sum(freq * unique_elements) / n\n",
    "print(f\"Method-2:\\nUnique Elements: {unique_elements} \\nFreq: {freq}\\nMean value: {mean_value}\\n-----------------\")\n",
    "\n",
    "#3rd method for mean\n",
    "print(f\"Mean value: {np.mean(no_of_children)}\\n-----------------\")"
   ]
  },
  {
   "cell_type": "code",
   "execution_count": 66,
   "metadata": {},
   "outputs": [
    {
     "name": "stdout",
     "output_type": "stream",
     "text": [
      "Method-1:\n",
      "The median for: [39 34 26 41 70 34 28 41]\n",
      "is: 36.5\n",
      "----------------\n",
      "Method-2:\n",
      "The median for: [39 34 26 41 70 34 28 41]\n",
      "is: 36.5\n",
      "---------------\n",
      "Mode method-1:\n",
      "\n",
      "Array: [ 2  3  2  2  2  0  0  1  1  4  3  2  8  5  6  7  4 15  2  2]\n",
      "Unique elements: [ 0  1  2  3  4  5  6  7  8 15]\n",
      "Freq: [2 2 7 2 2 1 1 1 1 1]\n",
      "Mode Index: (array([2], dtype=int64),)\n",
      "Mode: [2]\n",
      "--------------\n",
      "Mode method-2:\n",
      "\n",
      "Mode: 2\n"
     ]
    }
   ],
   "source": [
    "# Finding Median\n",
    "\n",
    "def find_median(policy_holders):\n",
    "    policy_holders_sorted = np.sort(policy_holders)\n",
    "    n=len(policy_holders)\n",
    "    \n",
    "    if n%2 == 0:\n",
    "        interim_median_position1 = n / 2\n",
    "        interim_median_position2 = (n / 2) + 1\n",
    "        value1 = policy_holders_sorted[int(interim_median_position1) - 1] #because indexing starts from ZERO\n",
    "        value2 = policy_holders_sorted[int(interim_median_position2) - 1] #because indexing starts from ZERO\n",
    "        calculated_median = (value1 + value2) / 2\n",
    "    else:\n",
    "        median_position = (n+1)/2\n",
    "        calculated_median = policy_holders_sorted[int(median_position)-1] #because indexing starts from ZERO\n",
    "        \n",
    "    return calculated_median\n",
    "        \n",
    "policy_holders = np.array([39, 34, 26, 41, 70, 34, 28, 41])\n",
    "print(f\"Method-1:\\nThe median for: {policy_holders}\\nis: {find_median(policy_holders)}\\n----------------\")\n",
    "\n",
    "print(f\"Method-2:\\nThe median for: {policy_holders}\\nis: {np.median(policy_holders)}\\n---------------\")\n",
    "\n",
    "\n",
    "\n",
    "# Finding Mode\n",
    "\n",
    "# Mode method-1\n",
    "unique_elements, freq = np.unique(no_of_children, return_counts = True)\n",
    "print(\"Mode method-1:\\n\")\n",
    "print(\"Array:\", no_of_children)\n",
    "print(\"Unique elements:\",unique_elements)\n",
    "print(\"Freq:\",freq)\n",
    "max_freq = np.max(freq)\n",
    "mode_index = np.where (freq == max_freq )\n",
    "mode = no_of_children [mode_index]\n",
    "print(\"Mode Index:\",mode_index)\n",
    "print(\"Mode:\",mode)\n",
    "\n",
    "# Mode method-2\n",
    "import statistics as stats\n",
    "mode=stats.mode(no_of_children)\n",
    "print(\"--------------\\nMode method-2:\\n\")\n",
    "print(\"Mode:\", mode)"
   ]
  },
  {
   "cell_type": "code",
   "execution_count": 67,
   "metadata": {},
   "outputs": [
    {
     "name": "stdout",
     "output_type": "stream",
     "text": [
      "   index            date  duration  item    month   network network_type\n",
      "0      0  15/10/14 06:58    34.429  data  2014-11      data         data\n",
      "1      1  15/10/14 06:58    13.000  call  2014-11  Vodafone       mobile\n",
      "2      2  15/10/14 14:46    23.000  call  2014-11    Meteor       mobile\n",
      "3      3  15/10/14 14:48     4.000  call  2014-11     Tesco       mobile\n",
      "4      4  15/10/14 17:27     4.000  call  2014-11     Tesco       mobile\n",
      "\n",
      "Variance: 197013.4143766616\n",
      "Standard deviation: 443.86193165967904\n",
      "Range: 10527.0\n",
      "\n",
      "Percentiles: 1.0 24.5 55.0\n",
      "Inter-quartile range: 54.0\n"
     ]
    }
   ],
   "source": [
    "# Variation and Standard Deviation\n",
    "\n",
    "phone_data = pd.read_csv(\"C:/Users/Public.DESKTOP-6RBQT7L/Desktop/Programming - Maths/SPACY IITians course/C01L11 - Measures of Central Tendency and Spread/data/phone_data.csv\", sep=',')\n",
    "\n",
    "print(phone_data.head())\n",
    "\n",
    "print(\"\\nVariance:\", np.var(phone_data['duration']))\n",
    "print(\"Standard deviation:\", np.std(phone_data['duration']))\n",
    "\n",
    "print(\"Range:\",phone_data['duration'].max() - phone_data['duration'].min())\n",
    "\n",
    "percentile_q1 = np.percentile(phone_data['duration'],25)\n",
    "percentile_q2 = np.percentile(phone_data['duration'],50)\n",
    "percentile_q3 = np.percentile(phone_data['duration'],75)\n",
    "\n",
    "print(\"\\nPercentiles:\", percentile_q1, percentile_q2, percentile_q3)\n",
    "\n",
    "print(\"Inter-quartile range:\", percentile_q3-percentile_q1)"
   ]
  },
  {
   "cell_type": "code",
   "execution_count": 68,
   "metadata": {},
   "outputs": [
    {
     "name": "stdout",
     "output_type": "stream",
     "text": [
      "14\n"
     ]
    }
   ],
   "source": [
    "temp1=np.array([1,2,3,4,5,5,5,5,5])\n",
    "sum1=np.sum(temp1%3) # This sums up elements by doing modulo of 3 for each element\n",
    "print(sum1)"
   ]
  },
  {
   "cell_type": "code",
   "execution_count": 69,
   "metadata": {},
   "outputs": [],
   "source": [
    "df = pd.read_csv('C:/Users/Public.DESKTOP-6RBQT7L/Desktop/Programming - Maths/SPACY IITians course/C01L14 - Boxplot etc/pp-2018.csv', names = [\"TID\",\"Price\",\"Sale Date\", \"Postcode\",\n",
    "                                    \"Property Type\",\"New Build\",\"Tenure\",\n",
    "                                    \"PAON\",\"SAON\",\"Street\",\"Locality\",\n",
    "                                    \"Town/City\",\"District\",\"County\",\n",
    "                                    \"PPD Category\",\"Record Status\"],\n",
    "                            parse_dates= [\"Sale Date\"])\n",
    "\n"
   ]
  },
  {
   "cell_type": "code",
   "execution_count": 70,
   "metadata": {},
   "outputs": [
    {
     "data": {
      "text/html": [
       "<div>\n",
       "<style scoped>\n",
       "    .dataframe tbody tr th:only-of-type {\n",
       "        vertical-align: middle;\n",
       "    }\n",
       "\n",
       "    .dataframe tbody tr th {\n",
       "        vertical-align: top;\n",
       "    }\n",
       "\n",
       "    .dataframe thead th {\n",
       "        text-align: right;\n",
       "    }\n",
       "</style>\n",
       "<table border=\"1\" class=\"dataframe\">\n",
       "  <thead>\n",
       "    <tr style=\"text-align: right;\">\n",
       "      <th></th>\n",
       "      <th>TID</th>\n",
       "      <th>Price</th>\n",
       "      <th>Sale Date</th>\n",
       "      <th>Postcode</th>\n",
       "      <th>Property Type</th>\n",
       "      <th>New Build</th>\n",
       "      <th>Tenure</th>\n",
       "      <th>PAON</th>\n",
       "      <th>SAON</th>\n",
       "      <th>Street</th>\n",
       "      <th>Locality</th>\n",
       "      <th>Town/City</th>\n",
       "      <th>District</th>\n",
       "      <th>County</th>\n",
       "      <th>PPD Category</th>\n",
       "      <th>Record Status</th>\n",
       "    </tr>\n",
       "  </thead>\n",
       "  <tbody>\n",
       "    <tr>\n",
       "      <th>0</th>\n",
       "      <td>{666758D7-43A9-3363-E053-6B04A8C0D74E}</td>\n",
       "      <td>405000</td>\n",
       "      <td>2018-01-25</td>\n",
       "      <td>WR15 8LH</td>\n",
       "      <td>D</td>\n",
       "      <td>N</td>\n",
       "      <td>F</td>\n",
       "      <td>RAMBLERS WAY</td>\n",
       "      <td>NaN</td>\n",
       "      <td>NaN</td>\n",
       "      <td>BORASTON</td>\n",
       "      <td>TENBURY WELLS</td>\n",
       "      <td>SHROPSHIRE</td>\n",
       "      <td>SHROPSHIRE</td>\n",
       "      <td>A</td>\n",
       "      <td>A</td>\n",
       "    </tr>\n",
       "    <tr>\n",
       "      <th>1</th>\n",
       "      <td>{666758D7-43AA-3363-E053-6B04A8C0D74E}</td>\n",
       "      <td>315000</td>\n",
       "      <td>2018-01-23</td>\n",
       "      <td>SY7 8QA</td>\n",
       "      <td>D</td>\n",
       "      <td>N</td>\n",
       "      <td>F</td>\n",
       "      <td>MONT CENISE</td>\n",
       "      <td>NaN</td>\n",
       "      <td>NaN</td>\n",
       "      <td>CLUN</td>\n",
       "      <td>CRAVEN ARMS</td>\n",
       "      <td>SHROPSHIRE</td>\n",
       "      <td>SHROPSHIRE</td>\n",
       "      <td>A</td>\n",
       "      <td>A</td>\n",
       "    </tr>\n",
       "    <tr>\n",
       "      <th>2</th>\n",
       "      <td>{666758D7-43AD-3363-E053-6B04A8C0D74E}</td>\n",
       "      <td>165000</td>\n",
       "      <td>2018-01-19</td>\n",
       "      <td>SY1 2BF</td>\n",
       "      <td>T</td>\n",
       "      <td>Y</td>\n",
       "      <td>F</td>\n",
       "      <td>42</td>\n",
       "      <td>NaN</td>\n",
       "      <td>PENSON WAY</td>\n",
       "      <td>NaN</td>\n",
       "      <td>SHREWSBURY</td>\n",
       "      <td>SHROPSHIRE</td>\n",
       "      <td>SHROPSHIRE</td>\n",
       "      <td>A</td>\n",
       "      <td>A</td>\n",
       "    </tr>\n",
       "    <tr>\n",
       "      <th>3</th>\n",
       "      <td>{666758D7-43B0-3363-E053-6B04A8C0D74E}</td>\n",
       "      <td>370000</td>\n",
       "      <td>2018-01-22</td>\n",
       "      <td>SY8 4DF</td>\n",
       "      <td>D</td>\n",
       "      <td>N</td>\n",
       "      <td>F</td>\n",
       "      <td>WILLOW HEY</td>\n",
       "      <td>NaN</td>\n",
       "      <td>NaN</td>\n",
       "      <td>ASHFORD CARBONEL</td>\n",
       "      <td>LUDLOW</td>\n",
       "      <td>SHROPSHIRE</td>\n",
       "      <td>SHROPSHIRE</td>\n",
       "      <td>A</td>\n",
       "      <td>A</td>\n",
       "    </tr>\n",
       "    <tr>\n",
       "      <th>4</th>\n",
       "      <td>{666758D7-43B3-3363-E053-6B04A8C0D74E}</td>\n",
       "      <td>320000</td>\n",
       "      <td>2018-01-19</td>\n",
       "      <td>TF10 7ET</td>\n",
       "      <td>D</td>\n",
       "      <td>N</td>\n",
       "      <td>F</td>\n",
       "      <td>3</td>\n",
       "      <td>NaN</td>\n",
       "      <td>PRINCESS GARDENS</td>\n",
       "      <td>NaN</td>\n",
       "      <td>NEWPORT</td>\n",
       "      <td>WREKIN</td>\n",
       "      <td>WREKIN</td>\n",
       "      <td>A</td>\n",
       "      <td>A</td>\n",
       "    </tr>\n",
       "  </tbody>\n",
       "</table>\n",
       "</div>"
      ],
      "text/plain": [
       "                                      TID   Price  Sale Date  Postcode  \\\n",
       "0  {666758D7-43A9-3363-E053-6B04A8C0D74E}  405000 2018-01-25  WR15 8LH   \n",
       "1  {666758D7-43AA-3363-E053-6B04A8C0D74E}  315000 2018-01-23   SY7 8QA   \n",
       "2  {666758D7-43AD-3363-E053-6B04A8C0D74E}  165000 2018-01-19   SY1 2BF   \n",
       "3  {666758D7-43B0-3363-E053-6B04A8C0D74E}  370000 2018-01-22   SY8 4DF   \n",
       "4  {666758D7-43B3-3363-E053-6B04A8C0D74E}  320000 2018-01-19  TF10 7ET   \n",
       "\n",
       "  Property Type New Build Tenure          PAON SAON            Street  \\\n",
       "0             D         N      F  RAMBLERS WAY  NaN               NaN   \n",
       "1             D         N      F   MONT CENISE  NaN               NaN   \n",
       "2             T         Y      F            42  NaN        PENSON WAY   \n",
       "3             D         N      F    WILLOW HEY  NaN               NaN   \n",
       "4             D         N      F             3  NaN  PRINCESS GARDENS   \n",
       "\n",
       "           Locality      Town/City    District      County PPD Category  \\\n",
       "0          BORASTON  TENBURY WELLS  SHROPSHIRE  SHROPSHIRE            A   \n",
       "1              CLUN    CRAVEN ARMS  SHROPSHIRE  SHROPSHIRE            A   \n",
       "2               NaN     SHREWSBURY  SHROPSHIRE  SHROPSHIRE            A   \n",
       "3  ASHFORD CARBONEL         LUDLOW  SHROPSHIRE  SHROPSHIRE            A   \n",
       "4               NaN        NEWPORT      WREKIN      WREKIN            A   \n",
       "\n",
       "  Record Status  \n",
       "0             A  \n",
       "1             A  \n",
       "2             A  \n",
       "3             A  \n",
       "4             A  "
      ]
     },
     "execution_count": 70,
     "metadata": {},
     "output_type": "execute_result"
    }
   ],
   "source": [
    "df.head()"
   ]
  },
  {
   "cell_type": "code",
   "execution_count": 71,
   "metadata": {},
   "outputs": [
    {
     "name": "stdout",
     "output_type": "stream",
     "text": [
      "(1024432, 16)\n",
      "(959003, 16)\n",
      "(959003, 16)\n"
     ]
    }
   ],
   "source": [
    "df = df.loc[df['Record Status'] == 'A']\n",
    "print(df.shape)\n",
    "df = df.loc[df['Property Type'] != 'O']\n",
    "print(df.shape)\n",
    "# Select transactions for 2018\n",
    "df = df[(df[\"Sale Date\"].dt.year==2018)]\n",
    "print(df.shape)"
   ]
  },
  {
   "cell_type": "code",
   "execution_count": 72,
   "metadata": {},
   "outputs": [
    {
     "data": {
      "text/html": [
       "<div>\n",
       "<style scoped>\n",
       "    .dataframe tbody tr th:only-of-type {\n",
       "        vertical-align: middle;\n",
       "    }\n",
       "\n",
       "    .dataframe tbody tr th {\n",
       "        vertical-align: top;\n",
       "    }\n",
       "\n",
       "    .dataframe thead th {\n",
       "        text-align: right;\n",
       "    }\n",
       "</style>\n",
       "<table border=\"1\" class=\"dataframe\">\n",
       "  <thead>\n",
       "    <tr style=\"text-align: right;\">\n",
       "      <th></th>\n",
       "      <th>TID</th>\n",
       "      <th>Price</th>\n",
       "      <th>Sale Date</th>\n",
       "      <th>Postcode</th>\n",
       "      <th>Property Type</th>\n",
       "      <th>New Build</th>\n",
       "      <th>Tenure</th>\n",
       "      <th>PAON</th>\n",
       "      <th>SAON</th>\n",
       "      <th>Street</th>\n",
       "      <th>Locality</th>\n",
       "      <th>Town/City</th>\n",
       "      <th>District</th>\n",
       "      <th>County</th>\n",
       "      <th>PPD Category</th>\n",
       "      <th>Record Status</th>\n",
       "      <th>Month</th>\n",
       "    </tr>\n",
       "  </thead>\n",
       "  <tbody>\n",
       "    <tr>\n",
       "      <th>0</th>\n",
       "      <td>{666758D7-43A9-3363-E053-6B04A8C0D74E}</td>\n",
       "      <td>405000</td>\n",
       "      <td>2018-01-25</td>\n",
       "      <td>WR15 8LH</td>\n",
       "      <td>D</td>\n",
       "      <td>N</td>\n",
       "      <td>F</td>\n",
       "      <td>RAMBLERS WAY</td>\n",
       "      <td>NaN</td>\n",
       "      <td>NaN</td>\n",
       "      <td>BORASTON</td>\n",
       "      <td>TENBURY WELLS</td>\n",
       "      <td>SHROPSHIRE</td>\n",
       "      <td>SHROPSHIRE</td>\n",
       "      <td>A</td>\n",
       "      <td>A</td>\n",
       "      <td>2018-01</td>\n",
       "    </tr>\n",
       "    <tr>\n",
       "      <th>1</th>\n",
       "      <td>{666758D7-43AA-3363-E053-6B04A8C0D74E}</td>\n",
       "      <td>315000</td>\n",
       "      <td>2018-01-23</td>\n",
       "      <td>SY7 8QA</td>\n",
       "      <td>D</td>\n",
       "      <td>N</td>\n",
       "      <td>F</td>\n",
       "      <td>MONT CENISE</td>\n",
       "      <td>NaN</td>\n",
       "      <td>NaN</td>\n",
       "      <td>CLUN</td>\n",
       "      <td>CRAVEN ARMS</td>\n",
       "      <td>SHROPSHIRE</td>\n",
       "      <td>SHROPSHIRE</td>\n",
       "      <td>A</td>\n",
       "      <td>A</td>\n",
       "      <td>2018-01</td>\n",
       "    </tr>\n",
       "    <tr>\n",
       "      <th>2</th>\n",
       "      <td>{666758D7-43AD-3363-E053-6B04A8C0D74E}</td>\n",
       "      <td>165000</td>\n",
       "      <td>2018-01-19</td>\n",
       "      <td>SY1 2BF</td>\n",
       "      <td>T</td>\n",
       "      <td>Y</td>\n",
       "      <td>F</td>\n",
       "      <td>42</td>\n",
       "      <td>NaN</td>\n",
       "      <td>PENSON WAY</td>\n",
       "      <td>NaN</td>\n",
       "      <td>SHREWSBURY</td>\n",
       "      <td>SHROPSHIRE</td>\n",
       "      <td>SHROPSHIRE</td>\n",
       "      <td>A</td>\n",
       "      <td>A</td>\n",
       "      <td>2018-01</td>\n",
       "    </tr>\n",
       "    <tr>\n",
       "      <th>3</th>\n",
       "      <td>{666758D7-43B0-3363-E053-6B04A8C0D74E}</td>\n",
       "      <td>370000</td>\n",
       "      <td>2018-01-22</td>\n",
       "      <td>SY8 4DF</td>\n",
       "      <td>D</td>\n",
       "      <td>N</td>\n",
       "      <td>F</td>\n",
       "      <td>WILLOW HEY</td>\n",
       "      <td>NaN</td>\n",
       "      <td>NaN</td>\n",
       "      <td>ASHFORD CARBONEL</td>\n",
       "      <td>LUDLOW</td>\n",
       "      <td>SHROPSHIRE</td>\n",
       "      <td>SHROPSHIRE</td>\n",
       "      <td>A</td>\n",
       "      <td>A</td>\n",
       "      <td>2018-01</td>\n",
       "    </tr>\n",
       "    <tr>\n",
       "      <th>4</th>\n",
       "      <td>{666758D7-43B3-3363-E053-6B04A8C0D74E}</td>\n",
       "      <td>320000</td>\n",
       "      <td>2018-01-19</td>\n",
       "      <td>TF10 7ET</td>\n",
       "      <td>D</td>\n",
       "      <td>N</td>\n",
       "      <td>F</td>\n",
       "      <td>3</td>\n",
       "      <td>NaN</td>\n",
       "      <td>PRINCESS GARDENS</td>\n",
       "      <td>NaN</td>\n",
       "      <td>NEWPORT</td>\n",
       "      <td>WREKIN</td>\n",
       "      <td>WREKIN</td>\n",
       "      <td>A</td>\n",
       "      <td>A</td>\n",
       "      <td>2018-01</td>\n",
       "    </tr>\n",
       "  </tbody>\n",
       "</table>\n",
       "</div>"
      ],
      "text/plain": [
       "                                      TID   Price  Sale Date  Postcode  \\\n",
       "0  {666758D7-43A9-3363-E053-6B04A8C0D74E}  405000 2018-01-25  WR15 8LH   \n",
       "1  {666758D7-43AA-3363-E053-6B04A8C0D74E}  315000 2018-01-23   SY7 8QA   \n",
       "2  {666758D7-43AD-3363-E053-6B04A8C0D74E}  165000 2018-01-19   SY1 2BF   \n",
       "3  {666758D7-43B0-3363-E053-6B04A8C0D74E}  370000 2018-01-22   SY8 4DF   \n",
       "4  {666758D7-43B3-3363-E053-6B04A8C0D74E}  320000 2018-01-19  TF10 7ET   \n",
       "\n",
       "  Property Type New Build Tenure          PAON SAON            Street  \\\n",
       "0             D         N      F  RAMBLERS WAY  NaN               NaN   \n",
       "1             D         N      F   MONT CENISE  NaN               NaN   \n",
       "2             T         Y      F            42  NaN        PENSON WAY   \n",
       "3             D         N      F    WILLOW HEY  NaN               NaN   \n",
       "4             D         N      F             3  NaN  PRINCESS GARDENS   \n",
       "\n",
       "           Locality      Town/City    District      County PPD Category  \\\n",
       "0          BORASTON  TENBURY WELLS  SHROPSHIRE  SHROPSHIRE            A   \n",
       "1              CLUN    CRAVEN ARMS  SHROPSHIRE  SHROPSHIRE            A   \n",
       "2               NaN     SHREWSBURY  SHROPSHIRE  SHROPSHIRE            A   \n",
       "3  ASHFORD CARBONEL         LUDLOW  SHROPSHIRE  SHROPSHIRE            A   \n",
       "4               NaN        NEWPORT      WREKIN      WREKIN            A   \n",
       "\n",
       "  Record Status    Month  \n",
       "0             A  2018-01  \n",
       "1             A  2018-01  \n",
       "2             A  2018-01  \n",
       "3             A  2018-01  \n",
       "4             A  2018-01  "
      ]
     },
     "execution_count": 72,
     "metadata": {},
     "output_type": "execute_result"
    }
   ],
   "source": [
    "from datetime import datetime\n",
    "\n",
    "import matplotlib.pyplot as plt\n",
    "%matplotlib inline\n",
    "\n",
    "df['Month']= df['Sale Date'].apply(lambda x: x.strftime(\"%Y-%m-%d\") [:7])\n",
    "\n",
    "df.head()"
   ]
  },
  {
   "cell_type": "code",
   "execution_count": 73,
   "metadata": {
    "scrolled": true
   },
   "outputs": [
    {
     "name": "stdout",
     "output_type": "stream",
     "text": [
      "2018-08    95382\n",
      "2018-11    92427\n",
      "2018-06    90178\n",
      "2018-10    86892\n",
      "2018-07    83082\n",
      "2018-12    79754\n",
      "2018-03    78070\n",
      "2018-09    77836\n",
      "2018-05    76325\n",
      "2018-04    67094\n",
      "2018-02    66959\n",
      "2018-01    65004\n",
      "Name: Month, dtype: int64\n"
     ]
    }
   ],
   "source": [
    "monthly_sales_vol = df[\"Month\"].value_counts() #counts occurences of each unique value in \"Month\" column\n",
    "print(monthly_sales_vol)"
   ]
  },
  {
   "cell_type": "code",
   "execution_count": 74,
   "metadata": {},
   "outputs": [
    {
     "name": "stdout",
     "output_type": "stream",
     "text": [
      "2018-01    65004\n",
      "2018-02    66959\n",
      "2018-03    78070\n",
      "2018-04    67094\n",
      "2018-05    76325\n",
      "2018-06    90178\n",
      "2018-07    83082\n",
      "2018-08    95382\n",
      "2018-09    77836\n",
      "2018-10    86892\n",
      "2018-11    92427\n",
      "2018-12    79754\n",
      "Name: Month, dtype: int64\n"
     ]
    }
   ],
   "source": [
    "monthly_sales_vol.sort_index(inplace=True)\n",
    "\n",
    "print(monthly_sales_vol)"
   ]
  },
  {
   "cell_type": "code",
   "execution_count": 75,
   "metadata": {},
   "outputs": [
    {
     "data": {
      "image/png": "[encoded data removed]",
      "text/plain": [
       "<Figure size 432x288 with 1 Axes>"
      ]
     },
     "metadata": {
      "needs_background": "light"
     },
     "output_type": "display_data"
    }
   ],
   "source": [
    "plt.plot(monthly_sales_vol)\n",
    "\n",
    "plt.title('Monthly Sales in the year 2018')\n",
    "plt.ylabel('Total number of sales')\n",
    "plt.xlabel('Month')\n",
    "plt.rcParams['figure.figsize'] = (20,5)"
   ]
  },
  {
   "cell_type": "code",
   "execution_count": 77,
   "metadata": {
    "scrolled": true
   },
   "outputs": [
    {
     "name": "stdout",
     "output_type": "stream",
     "text": [
      "2018-07-01      18\n",
      "2018-07-02    2931\n",
      "2018-07-03    1828\n",
      "2018-07-04    2064\n",
      "2018-07-05    2358\n",
      "Name: Sale Date, dtype: int64\n"
     ]
    },
    {
     "data": {
      "image/png": "[encoded data removed]",
      "text/plain": [
       "<Figure size 432x288 with 1 Axes>"
      ]
     },
     "metadata": {
      "needs_background": "light"
     },
     "output_type": "display_data"
    }
   ],
   "source": [
    "# Daily sales volume for July 2018\n",
    "df = df[df['Sale Date'].dt.month == 7]\n",
    "\n",
    "daily_sales_vol = df[\"Sale Date\"].value_counts()\n",
    "\n",
    "daily_sales_vol.sort_index(inplace=True)\n",
    "\n",
    "print(daily_sales_vol.head())\n",
    "%matplotlib inline\n",
    "# Create the plot object\n",
    "daily_sales_vol.plot()\n",
    "\n",
    "plt.title('Sales in the month of July 2018')\n",
    "plt.ylabel('Total number of sales')\n",
    "plt.xlabel('Date')\n",
    "plt.rcParams['figure.figsize'] = (10, 5)"
   ]
  },
  {
   "cell_type": "code",
   "execution_count": 46,
   "metadata": {},
   "outputs": [
    {
     "data": {
      "text/html": [
       "<div>\n",
       "<style scoped>\n",
       "    .dataframe tbody tr th:only-of-type {\n",
       "        vertical-align: middle;\n",
       "    }\n",
       "\n",
       "    .dataframe tbody tr th {\n",
       "        vertical-align: top;\n",
       "    }\n",
       "\n",
       "    .dataframe thead th {\n",
       "        text-align: right;\n",
       "    }\n",
       "</style>\n",
       "<table border=\"1\" class=\"dataframe\">\n",
       "  <thead>\n",
       "    <tr style=\"text-align: right;\">\n",
       "      <th></th>\n",
       "      <th>TID</th>\n",
       "      <th>Price</th>\n",
       "      <th>Postcode</th>\n",
       "      <th>Property Type</th>\n",
       "      <th>New Build</th>\n",
       "      <th>Tenure</th>\n",
       "      <th>PAON</th>\n",
       "      <th>SAON</th>\n",
       "      <th>Street</th>\n",
       "      <th>Locality</th>\n",
       "      <th>Town/City</th>\n",
       "      <th>District</th>\n",
       "      <th>County</th>\n",
       "      <th>PPD Category</th>\n",
       "      <th>Record Status</th>\n",
       "      <th>Month</th>\n",
       "    </tr>\n",
       "    <tr>\n",
       "      <th>Sale Date</th>\n",
       "      <th></th>\n",
       "      <th></th>\n",
       "      <th></th>\n",
       "      <th></th>\n",
       "      <th></th>\n",
       "      <th></th>\n",
       "      <th></th>\n",
       "      <th></th>\n",
       "      <th></th>\n",
       "      <th></th>\n",
       "      <th></th>\n",
       "      <th></th>\n",
       "      <th></th>\n",
       "      <th></th>\n",
       "      <th></th>\n",
       "      <th></th>\n",
       "    </tr>\n",
       "  </thead>\n",
       "  <tbody>\n",
       "    <tr>\n",
       "      <th>2018-07-01</th>\n",
       "      <td>18</td>\n",
       "      <td>18</td>\n",
       "      <td>18</td>\n",
       "      <td>18</td>\n",
       "      <td>18</td>\n",
       "      <td>18</td>\n",
       "      <td>18</td>\n",
       "      <td>4</td>\n",
       "      <td>17</td>\n",
       "      <td>7</td>\n",
       "      <td>18</td>\n",
       "      <td>18</td>\n",
       "      <td>18</td>\n",
       "      <td>18</td>\n",
       "      <td>18</td>\n",
       "      <td>18</td>\n",
       "    </tr>\n",
       "    <tr>\n",
       "      <th>2018-07-02</th>\n",
       "      <td>2931</td>\n",
       "      <td>2931</td>\n",
       "      <td>2928</td>\n",
       "      <td>2931</td>\n",
       "      <td>2931</td>\n",
       "      <td>2931</td>\n",
       "      <td>2931</td>\n",
       "      <td>395</td>\n",
       "      <td>2892</td>\n",
       "      <td>1068</td>\n",
       "      <td>2931</td>\n",
       "      <td>2931</td>\n",
       "      <td>2931</td>\n",
       "      <td>2931</td>\n",
       "      <td>2931</td>\n",
       "      <td>2931</td>\n",
       "    </tr>\n",
       "    <tr>\n",
       "      <th>2018-07-03</th>\n",
       "      <td>1828</td>\n",
       "      <td>1828</td>\n",
       "      <td>1827</td>\n",
       "      <td>1828</td>\n",
       "      <td>1828</td>\n",
       "      <td>1828</td>\n",
       "      <td>1828</td>\n",
       "      <td>310</td>\n",
       "      <td>1794</td>\n",
       "      <td>623</td>\n",
       "      <td>1828</td>\n",
       "      <td>1828</td>\n",
       "      <td>1828</td>\n",
       "      <td>1828</td>\n",
       "      <td>1828</td>\n",
       "      <td>1828</td>\n",
       "    </tr>\n",
       "    <tr>\n",
       "      <th>2018-07-04</th>\n",
       "      <td>2064</td>\n",
       "      <td>2064</td>\n",
       "      <td>2062</td>\n",
       "      <td>2064</td>\n",
       "      <td>2064</td>\n",
       "      <td>2064</td>\n",
       "      <td>2064</td>\n",
       "      <td>300</td>\n",
       "      <td>2024</td>\n",
       "      <td>776</td>\n",
       "      <td>2064</td>\n",
       "      <td>2064</td>\n",
       "      <td>2064</td>\n",
       "      <td>2064</td>\n",
       "      <td>2064</td>\n",
       "      <td>2064</td>\n",
       "    </tr>\n",
       "    <tr>\n",
       "      <th>2018-07-05</th>\n",
       "      <td>2358</td>\n",
       "      <td>2358</td>\n",
       "      <td>2357</td>\n",
       "      <td>2358</td>\n",
       "      <td>2358</td>\n",
       "      <td>2358</td>\n",
       "      <td>2358</td>\n",
       "      <td>342</td>\n",
       "      <td>2328</td>\n",
       "      <td>887</td>\n",
       "      <td>2358</td>\n",
       "      <td>2358</td>\n",
       "      <td>2358</td>\n",
       "      <td>2358</td>\n",
       "      <td>2358</td>\n",
       "      <td>2358</td>\n",
       "    </tr>\n",
       "  </tbody>\n",
       "</table>\n",
       "</div>"
      ],
      "text/plain": [
       "             TID  Price  Postcode  Property Type  New Build  Tenure  PAON  \\\n",
       "Sale Date                                                                   \n",
       "2018-07-01    18     18        18             18         18      18    18   \n",
       "2018-07-02  2931   2931      2928           2931       2931    2931  2931   \n",
       "2018-07-03  1828   1828      1827           1828       1828    1828  1828   \n",
       "2018-07-04  2064   2064      2062           2064       2064    2064  2064   \n",
       "2018-07-05  2358   2358      2357           2358       2358    2358  2358   \n",
       "\n",
       "            SAON  Street  Locality  Town/City  District  County  PPD Category  \\\n",
       "Sale Date                                                                       \n",
       "2018-07-01     4      17         7         18        18      18            18   \n",
       "2018-07-02   395    2892      1068       2931      2931    2931          2931   \n",
       "2018-07-03   310    1794       623       1828      1828    1828          1828   \n",
       "2018-07-04   300    2024       776       2064      2064    2064          2064   \n",
       "2018-07-05   342    2328       887       2358      2358    2358          2358   \n",
       "\n",
       "            Record Status  Month  \n",
       "Sale Date                         \n",
       "2018-07-01             18     18  \n",
       "2018-07-02           2931   2931  \n",
       "2018-07-03           1828   1828  \n",
       "2018-07-04           2064   2064  \n",
       "2018-07-05           2358   2358  "
      ]
     },
     "execution_count": 46,
     "metadata": {},
     "output_type": "execute_result"
    }
   ],
   "source": [
    "#Comparing the daily sales volume of different property types in July\n",
    "\n",
    "daily_price = df.groupby(['Sale Date']).count()\n",
    "daily_price.head()"
   ]
  },
  {
   "cell_type": "code",
   "execution_count": 47,
   "metadata": {},
   "outputs": [
    {
     "data": {
      "text/html": [
       "<div>\n",
       "<style scoped>\n",
       "    .dataframe tbody tr th:only-of-type {\n",
       "        vertical-align: middle;\n",
       "    }\n",
       "\n",
       "    .dataframe tbody tr th {\n",
       "        vertical-align: top;\n",
       "    }\n",
       "\n",
       "    .dataframe thead th {\n",
       "        text-align: right;\n",
       "    }\n",
       "</style>\n",
       "<table border=\"1\" class=\"dataframe\">\n",
       "  <thead>\n",
       "    <tr style=\"text-align: right;\">\n",
       "      <th></th>\n",
       "      <th></th>\n",
       "      <th>TID</th>\n",
       "      <th>Price</th>\n",
       "      <th>Postcode</th>\n",
       "      <th>New Build</th>\n",
       "      <th>Tenure</th>\n",
       "      <th>PAON</th>\n",
       "      <th>SAON</th>\n",
       "      <th>Street</th>\n",
       "      <th>Locality</th>\n",
       "      <th>Town/City</th>\n",
       "      <th>District</th>\n",
       "      <th>County</th>\n",
       "      <th>PPD Category</th>\n",
       "      <th>Record Status</th>\n",
       "      <th>Month</th>\n",
       "    </tr>\n",
       "    <tr>\n",
       "      <th>Sale Date</th>\n",
       "      <th>Property Type</th>\n",
       "      <th></th>\n",
       "      <th></th>\n",
       "      <th></th>\n",
       "      <th></th>\n",
       "      <th></th>\n",
       "      <th></th>\n",
       "      <th></th>\n",
       "      <th></th>\n",
       "      <th></th>\n",
       "      <th></th>\n",
       "      <th></th>\n",
       "      <th></th>\n",
       "      <th></th>\n",
       "      <th></th>\n",
       "      <th></th>\n",
       "    </tr>\n",
       "  </thead>\n",
       "  <tbody>\n",
       "    <tr>\n",
       "      <th rowspan=\"4\" valign=\"top\">2018-07-01</th>\n",
       "      <th>D</th>\n",
       "      <td>4</td>\n",
       "      <td>4</td>\n",
       "      <td>4</td>\n",
       "      <td>4</td>\n",
       "      <td>4</td>\n",
       "      <td>4</td>\n",
       "      <td>1</td>\n",
       "      <td>4</td>\n",
       "      <td>1</td>\n",
       "      <td>4</td>\n",
       "      <td>4</td>\n",
       "      <td>4</td>\n",
       "      <td>4</td>\n",
       "      <td>4</td>\n",
       "      <td>4</td>\n",
       "    </tr>\n",
       "    <tr>\n",
       "      <th>F</th>\n",
       "      <td>2</td>\n",
       "      <td>2</td>\n",
       "      <td>2</td>\n",
       "      <td>2</td>\n",
       "      <td>2</td>\n",
       "      <td>2</td>\n",
       "      <td>2</td>\n",
       "      <td>2</td>\n",
       "      <td>0</td>\n",
       "      <td>2</td>\n",
       "      <td>2</td>\n",
       "      <td>2</td>\n",
       "      <td>2</td>\n",
       "      <td>2</td>\n",
       "      <td>2</td>\n",
       "    </tr>\n",
       "    <tr>\n",
       "      <th>S</th>\n",
       "      <td>7</td>\n",
       "      <td>7</td>\n",
       "      <td>7</td>\n",
       "      <td>7</td>\n",
       "      <td>7</td>\n",
       "      <td>7</td>\n",
       "      <td>0</td>\n",
       "      <td>6</td>\n",
       "      <td>3</td>\n",
       "      <td>7</td>\n",
       "      <td>7</td>\n",
       "      <td>7</td>\n",
       "      <td>7</td>\n",
       "      <td>7</td>\n",
       "      <td>7</td>\n",
       "    </tr>\n",
       "    <tr>\n",
       "      <th>T</th>\n",
       "      <td>5</td>\n",
       "      <td>5</td>\n",
       "      <td>5</td>\n",
       "      <td>5</td>\n",
       "      <td>5</td>\n",
       "      <td>5</td>\n",
       "      <td>1</td>\n",
       "      <td>5</td>\n",
       "      <td>3</td>\n",
       "      <td>5</td>\n",
       "      <td>5</td>\n",
       "      <td>5</td>\n",
       "      <td>5</td>\n",
       "      <td>5</td>\n",
       "      <td>5</td>\n",
       "    </tr>\n",
       "    <tr>\n",
       "      <th>2018-07-02</th>\n",
       "      <th>D</th>\n",
       "      <td>705</td>\n",
       "      <td>705</td>\n",
       "      <td>704</td>\n",
       "      <td>705</td>\n",
       "      <td>705</td>\n",
       "      <td>705</td>\n",
       "      <td>2</td>\n",
       "      <td>673</td>\n",
       "      <td>372</td>\n",
       "      <td>705</td>\n",
       "      <td>705</td>\n",
       "      <td>705</td>\n",
       "      <td>705</td>\n",
       "      <td>705</td>\n",
       "      <td>705</td>\n",
       "    </tr>\n",
       "  </tbody>\n",
       "</table>\n",
       "</div>"
      ],
      "text/plain": [
       "                          TID  Price  Postcode  New Build  Tenure  PAON  SAON  \\\n",
       "Sale Date  Property Type                                                        \n",
       "2018-07-01 D                4      4         4          4       4     4     1   \n",
       "           F                2      2         2          2       2     2     2   \n",
       "           S                7      7         7          7       7     7     0   \n",
       "           T                5      5         5          5       5     5     1   \n",
       "2018-07-02 D              705    705       704        705     705   705     2   \n",
       "\n",
       "                          Street  Locality  Town/City  District  County  \\\n",
       "Sale Date  Property Type                                                  \n",
       "2018-07-01 D                   4         1          4         4       4   \n",
       "           F                   2         0          2         2       2   \n",
       "           S                   6         3          7         7       7   \n",
       "           T                   5         3          5         5       5   \n",
       "2018-07-02 D                 673       372        705       705     705   \n",
       "\n",
       "                          PPD Category  Record Status  Month  \n",
       "Sale Date  Property Type                                      \n",
       "2018-07-01 D                         4              4      4  \n",
       "           F                         2              2      2  \n",
       "           S                         7              7      7  \n",
       "           T                         5              5      5  \n",
       "2018-07-02 D                       705            705    705  "
      ]
     },
     "execution_count": 47,
     "metadata": {},
     "output_type": "execute_result"
    }
   ],
   "source": [
    "daily_price = df.groupby(['Sale Date','Property Type']).count()\n",
    "daily_price.head()"
   ]
  },
  {
   "cell_type": "code",
   "execution_count": 48,
   "metadata": {},
   "outputs": [
    {
     "data": {
      "text/plain": [
       "Sale Date   Property Type\n",
       "2018-07-01  D                  4\n",
       "            F                  2\n",
       "            S                  7\n",
       "            T                  5\n",
       "2018-07-02  D                705\n",
       "Name: Sale Date, dtype: int64"
      ]
     },
     "execution_count": 48,
     "metadata": {},
     "output_type": "execute_result"
    }
   ],
   "source": [
    "daily_price = df.groupby(['Sale Date','Property Type'])['Sale Date'].count()\n",
    "daily_price.head()"
   ]
  },
  {
   "cell_type": "code",
   "execution_count": 49,
   "metadata": {},
   "outputs": [
    {
     "data": {
      "text/html": [
       "<div>\n",
       "<style scoped>\n",
       "    .dataframe tbody tr th:only-of-type {\n",
       "        vertical-align: middle;\n",
       "    }\n",
       "\n",
       "    .dataframe tbody tr th {\n",
       "        vertical-align: top;\n",
       "    }\n",
       "\n",
       "    .dataframe thead th {\n",
       "        text-align: right;\n",
       "    }\n",
       "</style>\n",
       "<table border=\"1\" class=\"dataframe\">\n",
       "  <thead>\n",
       "    <tr style=\"text-align: right;\">\n",
       "      <th>Property Type</th>\n",
       "      <th>D</th>\n",
       "      <th>F</th>\n",
       "      <th>S</th>\n",
       "      <th>T</th>\n",
       "    </tr>\n",
       "    <tr>\n",
       "      <th>Sale Date</th>\n",
       "      <th></th>\n",
       "      <th></th>\n",
       "      <th></th>\n",
       "      <th></th>\n",
       "    </tr>\n",
       "  </thead>\n",
       "  <tbody>\n",
       "    <tr>\n",
       "      <th>2018-07-01</th>\n",
       "      <td>4</td>\n",
       "      <td>2</td>\n",
       "      <td>7</td>\n",
       "      <td>5</td>\n",
       "    </tr>\n",
       "    <tr>\n",
       "      <th>2018-07-02</th>\n",
       "      <td>705</td>\n",
       "      <td>564</td>\n",
       "      <td>782</td>\n",
       "      <td>880</td>\n",
       "    </tr>\n",
       "    <tr>\n",
       "      <th>2018-07-03</th>\n",
       "      <td>443</td>\n",
       "      <td>426</td>\n",
       "      <td>436</td>\n",
       "      <td>523</td>\n",
       "    </tr>\n",
       "    <tr>\n",
       "      <th>2018-07-04</th>\n",
       "      <td>529</td>\n",
       "      <td>401</td>\n",
       "      <td>528</td>\n",
       "      <td>606</td>\n",
       "    </tr>\n",
       "    <tr>\n",
       "      <th>2018-07-05</th>\n",
       "      <td>623</td>\n",
       "      <td>453</td>\n",
       "      <td>614</td>\n",
       "      <td>668</td>\n",
       "    </tr>\n",
       "  </tbody>\n",
       "</table>\n",
       "</div>"
      ],
      "text/plain": [
       "Property Type    D    F    S    T\n",
       "Sale Date                        \n",
       "2018-07-01       4    2    7    5\n",
       "2018-07-02     705  564  782  880\n",
       "2018-07-03     443  426  436  523\n",
       "2018-07-04     529  401  528  606\n",
       "2018-07-05     623  453  614  668"
      ]
     },
     "execution_count": 49,
     "metadata": {},
     "output_type": "execute_result"
    }
   ],
   "source": [
    "daily_price = df.groupby(['Sale Date','Property Type'])['Sale Date'].count().unstack()\n",
    "daily_price.head()"
   ]
  },
  {
   "cell_type": "code",
   "execution_count": 50,
   "metadata": {},
   "outputs": [
    {
     "name": "stdout",
     "output_type": "stream",
     "text": [
      "T    23630\n",
      "S    23501\n",
      "D    20406\n",
      "F    15545\n",
      "Name: Property Type, dtype: int64\n"
     ]
    },
    {
     "data": {
      "image/png": "[encoded data removed]",
      "text/plain": [
       "<Figure size 720x360 with 1 Axes>"
      ]
     },
     "metadata": {
      "needs_background": "light"
     },
     "output_type": "display_data"
    }
   ],
   "source": [
    "# BAR PLOT\n",
    "\n",
    "sales_by_type = df[\"Property Type\"].value_counts()\n",
    "\n",
    "print(sales_by_type)\n",
    "\n",
    "sales_by_type.plot(kind='bar')\n",
    "\n",
    "plt.title('Sales Volume in July 2018 for different property types')\n",
    "plt.ylabel('Number of sales')\n",
    "plt.xlabel('Property Type')\n",
    "\n",
    "# Set the display figure size using rcParams method \n",
    "plt.rcParams['figure.figsize'] = (10, 5)"
   ]
  },
  {
   "cell_type": "code",
   "execution_count": 51,
   "metadata": {},
   "outputs": [
    {
     "data": {
      "text/plain": [
       "Property Type\n",
       "D    420870.312359\n",
       "F    306578.147507\n",
       "S    260353.586613\n",
       "T    248855.367203\n",
       "Name: Price, dtype: float64"
      ]
     },
     "execution_count": 51,
     "metadata": {},
     "output_type": "execute_result"
    }
   ],
   "source": [
    "df.groupby(['Property Type'])['Price'].mean()"
   ]
  },
  {
   "cell_type": "code",
   "execution_count": 52,
   "metadata": {},
   "outputs": [
    {
     "data": {
      "text/plain": [
       "Text(0, 0.5, 'Average prices ')"
      ]
     },
     "execution_count": 52,
     "metadata": {},
     "output_type": "execute_result"
    },
    {
     "data": {
      "image/png": "[encoded data removed]",
      "text/plain": [
       "<Figure size 720x360 with 1 Axes>"
      ]
     },
     "metadata": {
      "needs_background": "light"
     },
     "output_type": "display_data"
    }
   ],
   "source": [
    "ax = df.groupby(['Property Type'])['Price'].mean().plot.bar(\n",
    "    figsize = (10,5),\n",
    "    fontsize = 10\n",
    ")\n",
    "\n",
    "# Set the title\n",
    "ax.set_title(\"Average house prices for different property types in July 2018\", fontsize = 20)\n",
    "\n",
    "# Set x and y-labels\n",
    "ax.set_xlabel(\"Property Type\", fontsize = 15)\n",
    "ax.set_ylabel(\"Average prices \", fontsize = 15)"
   ]
  },
  {
   "cell_type": "code",
   "execution_count": 53,
   "metadata": {},
   "outputs": [
    {
     "data": {
      "text/plain": [
       "Text(0.5, 0, 'Property Type')"
      ]
     },
     "execution_count": 53,
     "metadata": {},
     "output_type": "execute_result"
    },
    {
     "data": {
      "image/png": "[encoded data removed]",
      "text/plain": [
       "<Figure size 720x360 with 1 Axes>"
      ]
     },
     "metadata": {
      "needs_background": "light"
     },
     "output_type": "display_data"
    }
   ],
   "source": [
    "# BOX PLOT\n",
    "\n",
    "df.groupby(['Sale Date', 'Property Type'])['Price'].mean().unstack()\n",
    "\n",
    "df.groupby(['Sale Date', 'Property Type'])['Price'].mean().unstack().plot(kind=\"box\")\n",
    "plt.title('House Price distribution by Property Type')\n",
    "plt.ylabel('Daily Average Prices')\n",
    "plt.xlabel('Property Type')"
   ]
  },
  {
   "cell_type": "code",
   "execution_count": 54,
   "metadata": {},
   "outputs": [
    {
     "name": "stdout",
     "output_type": "stream",
     "text": [
      "(8378, 195)\n"
     ]
    },
    {
     "data": {
      "text/html": [
       "<div>\n",
       "<style scoped>\n",
       "    .dataframe tbody tr th:only-of-type {\n",
       "        vertical-align: middle;\n",
       "    }\n",
       "\n",
       "    .dataframe tbody tr th {\n",
       "        vertical-align: top;\n",
       "    }\n",
       "\n",
       "    .dataframe thead th {\n",
       "        text-align: right;\n",
       "    }\n",
       "</style>\n",
       "<table border=\"1\" class=\"dataframe\">\n",
       "  <thead>\n",
       "    <tr style=\"text-align: right;\">\n",
       "      <th></th>\n",
       "      <th>iid</th>\n",
       "      <th>id</th>\n",
       "      <th>gender</th>\n",
       "      <th>idg</th>\n",
       "      <th>condtn</th>\n",
       "      <th>wave</th>\n",
       "      <th>round</th>\n",
       "      <th>position</th>\n",
       "      <th>positin1</th>\n",
       "      <th>order</th>\n",
       "      <th>...</th>\n",
       "      <th>attr3_3</th>\n",
       "      <th>sinc3_3</th>\n",
       "      <th>intel3_3</th>\n",
       "      <th>fun3_3</th>\n",
       "      <th>amb3_3</th>\n",
       "      <th>attr5_3</th>\n",
       "      <th>sinc5_3</th>\n",
       "      <th>intel5_3</th>\n",
       "      <th>fun5_3</th>\n",
       "      <th>amb5_3</th>\n",
       "    </tr>\n",
       "  </thead>\n",
       "  <tbody>\n",
       "    <tr>\n",
       "      <th>0</th>\n",
       "      <td>1</td>\n",
       "      <td>1.0</td>\n",
       "      <td>0</td>\n",
       "      <td>1</td>\n",
       "      <td>1</td>\n",
       "      <td>1</td>\n",
       "      <td>10</td>\n",
       "      <td>7</td>\n",
       "      <td>NaN</td>\n",
       "      <td>4</td>\n",
       "      <td>...</td>\n",
       "      <td>5.0</td>\n",
       "      <td>7.0</td>\n",
       "      <td>7.0</td>\n",
       "      <td>7.0</td>\n",
       "      <td>7.0</td>\n",
       "      <td>NaN</td>\n",
       "      <td>NaN</td>\n",
       "      <td>NaN</td>\n",
       "      <td>NaN</td>\n",
       "      <td>NaN</td>\n",
       "    </tr>\n",
       "    <tr>\n",
       "      <th>1</th>\n",
       "      <td>1</td>\n",
       "      <td>1.0</td>\n",
       "      <td>0</td>\n",
       "      <td>1</td>\n",
       "      <td>1</td>\n",
       "      <td>1</td>\n",
       "      <td>10</td>\n",
       "      <td>7</td>\n",
       "      <td>NaN</td>\n",
       "      <td>3</td>\n",
       "      <td>...</td>\n",
       "      <td>5.0</td>\n",
       "      <td>7.0</td>\n",
       "      <td>7.0</td>\n",
       "      <td>7.0</td>\n",
       "      <td>7.0</td>\n",
       "      <td>NaN</td>\n",
       "      <td>NaN</td>\n",
       "      <td>NaN</td>\n",
       "      <td>NaN</td>\n",
       "      <td>NaN</td>\n",
       "    </tr>\n",
       "    <tr>\n",
       "      <th>2</th>\n",
       "      <td>1</td>\n",
       "      <td>1.0</td>\n",
       "      <td>0</td>\n",
       "      <td>1</td>\n",
       "      <td>1</td>\n",
       "      <td>1</td>\n",
       "      <td>10</td>\n",
       "      <td>7</td>\n",
       "      <td>NaN</td>\n",
       "      <td>10</td>\n",
       "      <td>...</td>\n",
       "      <td>5.0</td>\n",
       "      <td>7.0</td>\n",
       "      <td>7.0</td>\n",
       "      <td>7.0</td>\n",
       "      <td>7.0</td>\n",
       "      <td>NaN</td>\n",
       "      <td>NaN</td>\n",
       "      <td>NaN</td>\n",
       "      <td>NaN</td>\n",
       "      <td>NaN</td>\n",
       "    </tr>\n",
       "    <tr>\n",
       "      <th>3</th>\n",
       "      <td>1</td>\n",
       "      <td>1.0</td>\n",
       "      <td>0</td>\n",
       "      <td>1</td>\n",
       "      <td>1</td>\n",
       "      <td>1</td>\n",
       "      <td>10</td>\n",
       "      <td>7</td>\n",
       "      <td>NaN</td>\n",
       "      <td>5</td>\n",
       "      <td>...</td>\n",
       "      <td>5.0</td>\n",
       "      <td>7.0</td>\n",
       "      <td>7.0</td>\n",
       "      <td>7.0</td>\n",
       "      <td>7.0</td>\n",
       "      <td>NaN</td>\n",
       "      <td>NaN</td>\n",
       "      <td>NaN</td>\n",
       "      <td>NaN</td>\n",
       "      <td>NaN</td>\n",
       "    </tr>\n",
       "    <tr>\n",
       "      <th>4</th>\n",
       "      <td>1</td>\n",
       "      <td>1.0</td>\n",
       "      <td>0</td>\n",
       "      <td>1</td>\n",
       "      <td>1</td>\n",
       "      <td>1</td>\n",
       "      <td>10</td>\n",
       "      <td>7</td>\n",
       "      <td>NaN</td>\n",
       "      <td>7</td>\n",
       "      <td>...</td>\n",
       "      <td>5.0</td>\n",
       "      <td>7.0</td>\n",
       "      <td>7.0</td>\n",
       "      <td>7.0</td>\n",
       "      <td>7.0</td>\n",
       "      <td>NaN</td>\n",
       "      <td>NaN</td>\n",
       "      <td>NaN</td>\n",
       "      <td>NaN</td>\n",
       "      <td>NaN</td>\n",
       "    </tr>\n",
       "  </tbody>\n",
       "</table>\n",
       "<p>5 rows × 195 columns</p>\n",
       "</div>"
      ],
      "text/plain": [
       "   iid   id  gender  idg  condtn  wave  round  position  positin1  order  ...  \\\n",
       "0    1  1.0       0    1       1     1     10         7       NaN      4  ...   \n",
       "1    1  1.0       0    1       1     1     10         7       NaN      3  ...   \n",
       "2    1  1.0       0    1       1     1     10         7       NaN     10  ...   \n",
       "3    1  1.0       0    1       1     1     10         7       NaN      5  ...   \n",
       "4    1  1.0       0    1       1     1     10         7       NaN      7  ...   \n",
       "\n",
       "   attr3_3  sinc3_3  intel3_3  fun3_3  amb3_3  attr5_3  sinc5_3  intel5_3  \\\n",
       "0      5.0      7.0       7.0     7.0     7.0      NaN      NaN       NaN   \n",
       "1      5.0      7.0       7.0     7.0     7.0      NaN      NaN       NaN   \n",
       "2      5.0      7.0       7.0     7.0     7.0      NaN      NaN       NaN   \n",
       "3      5.0      7.0       7.0     7.0     7.0      NaN      NaN       NaN   \n",
       "4      5.0      7.0       7.0     7.0     7.0      NaN      NaN       NaN   \n",
       "\n",
       "   fun5_3  amb5_3  \n",
       "0     NaN     NaN  \n",
       "1     NaN     NaN  \n",
       "2     NaN     NaN  \n",
       "3     NaN     NaN  \n",
       "4     NaN     NaN  \n",
       "\n",
       "[5 rows x 195 columns]"
      ]
     },
     "execution_count": 54,
     "metadata": {},
     "output_type": "execute_result"
    }
   ],
   "source": [
    " # SEABORN\n",
    "    \n",
    "import seaborn as sns\n",
    "\n",
    "df_dd = pd.read_csv('C:/Users/Public.DESKTOP-6RBQT7L/Desktop/Programming - Maths/SPACY IITians course/C01L14 - Boxplot etc/Speed_Dating_Data.csv', encoding = 'unicode_escape')\n",
    "\n",
    "print(df_dd.shape)\n",
    "\n",
    "df_dd.head()"
   ]
  },
  {
   "cell_type": "code",
   "execution_count": 55,
   "metadata": {},
   "outputs": [
    {
     "data": {
      "text/plain": [
       "array(['iid', 'id', 'gender', 'idg', 'condtn', 'wave', 'round',\n",
       "       'position', 'positin1', 'order', 'partner', 'pid', 'match',\n",
       "       'int_corr', 'samerace', 'age_o', 'race_o', 'pf_o_att', 'pf_o_sin',\n",
       "       'pf_o_int', 'pf_o_fun', 'pf_o_amb', 'pf_o_sha', 'dec_o', 'attr_o',\n",
       "       'sinc_o', 'intel_o', 'fun_o', 'amb_o', 'shar_o', 'like_o',\n",
       "       'prob_o', 'met_o', 'age', 'field', 'field_cd', 'undergra',\n",
       "       'mn_sat', 'tuition', 'race', 'imprace', 'imprelig', 'from',\n",
       "       'zipcode', 'income', 'goal', 'date', 'go_out', 'career',\n",
       "       'career_c', 'sports', 'tvsports', 'exercise', 'dining', 'museums',\n",
       "       'art', 'hiking', 'gaming', 'clubbing', 'reading', 'tv', 'theater',\n",
       "       'movies', 'concerts', 'music', 'shopping', 'yoga', 'exphappy',\n",
       "       'expnum', 'attr1_1', 'sinc1_1', 'intel1_1', 'fun1_1', 'amb1_1',\n",
       "       'shar1_1', 'attr4_1', 'sinc4_1', 'intel4_1', 'fun4_1', 'amb4_1',\n",
       "       'shar4_1', 'attr2_1', 'sinc2_1', 'intel2_1', 'fun2_1', 'amb2_1',\n",
       "       'shar2_1', 'attr3_1', 'sinc3_1', 'fun3_1', 'intel3_1', 'amb3_1',\n",
       "       'attr5_1', 'sinc5_1', 'intel5_1', 'fun5_1', 'amb5_1', 'dec',\n",
       "       'attr', 'sinc', 'intel', 'fun', 'amb', 'shar', 'like', 'prob',\n",
       "       'met', 'match_es', 'attr1_s', 'sinc1_s', 'intel1_s', 'fun1_s',\n",
       "       'amb1_s', 'shar1_s', 'attr3_s', 'sinc3_s', 'intel3_s', 'fun3_s',\n",
       "       'amb3_s', 'satis_2', 'length', 'numdat_2', 'attr7_2', 'sinc7_2',\n",
       "       'intel7_2', 'fun7_2', 'amb7_2', 'shar7_2', 'attr1_2', 'sinc1_2',\n",
       "       'intel1_2', 'fun1_2', 'amb1_2', 'shar1_2', 'attr4_2', 'sinc4_2',\n",
       "       'intel4_2', 'fun4_2', 'amb4_2', 'shar4_2', 'attr2_2', 'sinc2_2',\n",
       "       'intel2_2', 'fun2_2', 'amb2_2', 'shar2_2', 'attr3_2', 'sinc3_2',\n",
       "       'intel3_2', 'fun3_2', 'amb3_2', 'attr5_2', 'sinc5_2', 'intel5_2',\n",
       "       'fun5_2', 'amb5_2', 'you_call', 'them_cal', 'date_3', 'numdat_3',\n",
       "       'num_in_3', 'attr1_3', 'sinc1_3', 'intel1_3', 'fun1_3', 'amb1_3',\n",
       "       'shar1_3', 'attr7_3', 'sinc7_3', 'intel7_3', 'fun7_3', 'amb7_3',\n",
       "       'shar7_3', 'attr4_3', 'sinc4_3', 'intel4_3', 'fun4_3', 'amb4_3',\n",
       "       'shar4_3', 'attr2_3', 'sinc2_3', 'intel2_3', 'fun2_3', 'amb2_3',\n",
       "       'shar2_3', 'attr3_3', 'sinc3_3', 'intel3_3', 'fun3_3', 'amb3_3',\n",
       "       'attr5_3', 'sinc5_3', 'intel5_3', 'fun5_3', 'amb5_3'], dtype=object)"
      ]
     },
     "execution_count": 55,
     "metadata": {},
     "output_type": "execute_result"
    }
   ],
   "source": [
    "df_dd.columns.values"
   ]
  },
  {
   "cell_type": "code",
   "execution_count": 56,
   "metadata": {},
   "outputs": [
    {
     "name": "stdout",
     "output_type": "stream",
     "text": [
      "0    21.0\n",
      "1    21.0\n",
      "2    21.0\n",
      "3    21.0\n",
      "4    21.0\n",
      "Name: age, dtype: float64\n",
      "Shape: (8378,)\n",
      "----------------------\n",
      "   iid   id  gender  idg  condtn  wave  round  position  positin1  order  ...  \\\n",
      "0    1  1.0       0    1       1     1     10         7       NaN      4  ...   \n",
      "1    1  1.0       0    1       1     1     10         7       NaN      3  ...   \n",
      "2    1  1.0       0    1       1     1     10         7       NaN     10  ...   \n",
      "3    1  1.0       0    1       1     1     10         7       NaN      5  ...   \n",
      "4    1  1.0       0    1       1     1     10         7       NaN      7  ...   \n",
      "\n",
      "   attr3_3  sinc3_3  intel3_3  fun3_3  amb3_3  attr5_3  sinc5_3  intel5_3  \\\n",
      "0      5.0      7.0       7.0     7.0     7.0      NaN      NaN       NaN   \n",
      "1      5.0      7.0       7.0     7.0     7.0      NaN      NaN       NaN   \n",
      "2      5.0      7.0       7.0     7.0     7.0      NaN      NaN       NaN   \n",
      "3      5.0      7.0       7.0     7.0     7.0      NaN      NaN       NaN   \n",
      "4      5.0      7.0       7.0     7.0     7.0      NaN      NaN       NaN   \n",
      "\n",
      "   fun5_3  amb5_3  \n",
      "0     NaN     NaN  \n",
      "1     NaN     NaN  \n",
      "2     NaN     NaN  \n",
      "3     NaN     NaN  \n",
      "4     NaN     NaN  \n",
      "\n",
      "[5 rows x 195 columns]\n",
      "Shape: (8283, 195)\n",
      "----------------------\n",
      "0    21.0\n",
      "1    21.0\n",
      "2    21.0\n",
      "3    21.0\n",
      "4    21.0\n",
      "Name: age, dtype: float64\n",
      "Shape: (8283,)\n"
     ]
    },
    {
     "data": {
      "text/plain": [
       "Text(0, 0.5, 'Frequency')"
      ]
     },
     "execution_count": 56,
     "metadata": {},
     "output_type": "execute_result"
    },
    {
     "data": {
      "image/png": "[encoded data removed]",
      "text/plain": [
       "<Figure size 720x360 with 1 Axes>"
      ]
     },
     "metadata": {
      "needs_background": "light"
     },
     "output_type": "display_data"
    }
   ],
   "source": [
    "# Used by SPACY guys below:\n",
    "# age = df_dd[np.isfinite(df_dd['age'])]['age']\n",
    "#------------------------------------------------\n",
    "# My own\n",
    "age3 = df_dd['age'] # just get the AGE column\n",
    "print(age3.head())\n",
    "print(\"Shape:\",age3.shape)\n",
    "print(\"----------------------\")\n",
    "age1 = df_dd[np.isfinite(age3)] # get all those rows where AGE column is finite i.e. non-zero\n",
    "print(age1.head())\n",
    "print(\"Shape:\",age1.shape)\n",
    "print(\"----------------------\")\n",
    "age2 = age1['age'] # then get all records within just AGE column\n",
    "print(age2.head())\n",
    "print(\"Shape:\",age2.shape)\n",
    "\n",
    "plt.hist(age2.values, color='red') # Just using AGE2 instead of AGE2.values gives the same results\n",
    "plt.xlabel('Age')\n",
    "plt.ylabel('Frequency')"
   ]
  },
  {
   "cell_type": "code",
   "execution_count": 57,
   "metadata": {
    "scrolled": true
   },
   "outputs": [
    {
     "data": {
      "text/plain": [
       "<matplotlib.axes._subplots.AxesSubplot at 0x23ad8b96780>"
      ]
     },
     "execution_count": 57,
     "metadata": {},
     "output_type": "execute_result"
    },
    {
     "data": {
      "image/png": "[encoded data removed]",
      "text/plain": [
       "<Figure size 720x360 with 1 Axes>"
      ]
     },
     "metadata": {
      "needs_background": "light"
     },
     "output_type": "display_data"
    }
   ],
   "source": [
    "sns.distplot(age2, hist=True)"
   ]
  },
  {
   "cell_type": "code",
   "execution_count": 58,
   "metadata": {},
   "outputs": [
    {
     "name": "stdout",
     "output_type": "stream",
     "text": [
      "   gender  shopping\n",
      "0       0         7\n",
      "1       0         8\n",
      "2       0        10\n",
      "3       0         6\n",
      "4       0         7\n",
      "5       1         2\n",
      "6       1         4\n",
      "7       1         3\n",
      "8       1         4\n",
      "9       1         1\n",
      "\n",
      "Correlation:\n",
      "             gender  shopping\n",
      "gender    1.000000 -0.884652\n",
      "shopping -0.884652  1.000000\n"
     ]
    },
    {
     "data": {
      "text/plain": [
       "<seaborn.axisgrid.FacetGrid at 0x23ad8bf3668>"
      ]
     },
     "execution_count": 58,
     "metadata": {},
     "output_type": "execute_result"
    },
    {
     "data": {
      "image/png": "[encoded data removed]",
      "text/plain": [
       "<Figure size 360x360 with 1 Axes>"
      ]
     },
     "metadata": {
      "needs_background": "light"
     },
     "output_type": "display_data"
    }
   ],
   "source": [
    "# Positively correlated data\n",
    "gender = [0, 0, 0, 0, 0, 1, 1, 1, 1, 1]\n",
    "shopping = [7, 8, 10, 6, 7, 2, 4, 3, 4, 1]\n",
    "\n",
    "df = pd.DataFrame(data={'gender': gender, 'shopping': shopping})\n",
    "\n",
    "print(df)\n",
    "\n",
    "print()\n",
    "print(\"Correlation:\\n\", df.corr() )\n",
    "\n",
    "sns.lmplot(x='gender', y='shopping', data=df)"
   ]
  },
  {
   "cell_type": "code",
   "execution_count": 59,
   "metadata": {},
   "outputs": [
    {
     "name": "stdout",
     "output_type": "stream",
     "text": [
      "          x         y\n",
      "x  1.000000 -0.994558\n",
      "y -0.994558  1.000000\n",
      "------------------\n",
      "          x         y\n",
      "x  1.000000  0.974559\n",
      "y  0.974559  1.000000\n",
      "------------------\n",
      "     x    y\n",
      "x  1.0  0.0\n",
      "y  0.0  1.0\n"
     ]
    }
   ],
   "source": [
    "# Negatively correlated data\n",
    "x = [1, 2, 3, 4, 5, 6, 7, 8, 9, 10]\n",
    "y = [11, 10, 9, 8, 7, 6, 6, 4, 3, 2]\n",
    "df = pd.DataFrame(data={'x': x, 'y': y})\n",
    "print(df.corr())\n",
    "\n",
    "print(\"------------------\")\n",
    "\n",
    "x = [1, 2, 3, 4, 5, 6, 7, 8, 9, 10]\n",
    "y = [1, 4, 9, 16, 25, 36, 49, 64, 81, 100]\n",
    "df = pd.DataFrame(data={'x': x, 'y': y})\n",
    "print(df.corr())\n",
    "\n",
    "print(\"------------------\")\n",
    "\n",
    "# Zero correlation\n",
    "x = [1, 2, 1, 2]\n",
    "y = [1, 2, 2, 1]\n",
    "df = pd.DataFrame(data={'x': x, 'y': y})\n",
    "print(df.corr())"
   ]
  },
  {
   "cell_type": "code",
   "execution_count": 60,
   "metadata": {},
   "outputs": [
    {
     "name": "stdout",
     "output_type": "stream",
     "text": [
      "   gender  shopping  gaming  concerts  music\n",
      "0       0       8.0     1.0      10.0    9.0\n",
      "1       0       8.0     1.0      10.0    9.0\n",
      "2       0       8.0     1.0      10.0    9.0\n",
      "3       0       8.0     1.0      10.0    9.0\n",
      "4       0       8.0     1.0      10.0    9.0\n",
      "\n",
      "            gender  shopping    gaming  concerts     music\n",
      "gender    1.000000 -0.330718  0.219619 -0.128339 -0.076850\n",
      "shopping -0.330718  1.000000  0.093467  0.205389  0.208329\n",
      "gaming    0.219619  0.093467  1.000000  0.098806  0.043301\n",
      "concerts -0.128339  0.205389  0.098806  1.000000  0.655728\n",
      "music    -0.076850  0.208329  0.043301  0.655728  1.000000\n"
     ]
    },
    {
     "data": {
      "text/plain": [
       "<matplotlib.axes._subplots.AxesSubplot at 0x23ad8b79668>"
      ]
     },
     "execution_count": 60,
     "metadata": {},
     "output_type": "execute_result"
    },
    {
     "data": {
      "image/png": "[encoded data removed]",
      "text/plain": [
       "<Figure size 360x360 with 2 Axes>"
      ]
     },
     "metadata": {
      "needs_background": "light"
     },
     "output_type": "display_data"
    }
   ],
   "source": [
    "dating_data_df = df_dd[['gender', 'shopping', 'gaming', 'concerts', 'music']]\n",
    "\n",
    "print(dating_data_df.head())\n",
    "\n",
    "df_corr = dating_data_df.corr()\n",
    "print()\n",
    "print(df_corr)\n",
    "\n",
    "plt.figure(figsize=(5,5))\n",
    "sns.heatmap(df_corr)"
   ]
  },
  {
   "cell_type": "code",
   "execution_count": 61,
   "metadata": {},
   "outputs": [
    {
     "data": {
      "text/plain": [
       "<matplotlib.axes._subplots.AxesSubplot at 0x23abdd1aac8>"
      ]
     },
     "execution_count": 61,
     "metadata": {},
     "output_type": "execute_result"
    },
    {
     "data": {
      "image/png": "[encoded data removed]",
      "text/plain": [
       "<Figure size 360x360 with 2 Axes>"
      ]
     },
     "metadata": {
      "needs_background": "light"
     },
     "output_type": "display_data"
    }
   ],
   "source": [
    "plt.figure(figsize=(5,5))\n",
    "\n",
    "sns.heatmap(df_corr, vmin=-1, cmap='coolwarm', annot=True)"
   ]
  },
  {
   "cell_type": "code",
   "execution_count": 62,
   "metadata": {},
   "outputs": [
    {
     "name": "stdout",
     "output_type": "stream",
     "text": [
      "   gender  shopping  gaming  concerts  music\n",
      "0       0       8.0     1.0      10.0    9.0\n",
      "1       0       8.0     1.0      10.0    9.0\n",
      "2       0       8.0     1.0      10.0    9.0\n",
      "3       0       8.0     1.0      10.0    9.0\n",
      "4       0       8.0     1.0      10.0    9.0\n"
     ]
    },
    {
     "data": {
      "text/plain": [
       "<seaborn.axisgrid.JointGrid at 0x23abb6c1f60>"
      ]
     },
     "execution_count": 62,
     "metadata": {},
     "output_type": "execute_result"
    },
    {
     "data": {
      "image/png": "[encoded data removed]",
      "text/plain": [
       "<Figure size 432x432 with 3 Axes>"
      ]
     },
     "metadata": {
      "needs_background": "light"
     },
     "output_type": "display_data"
    }
   ],
   "source": [
    "print(dating_data_df.head())\n",
    "\n",
    "sns.jointplot(x='concerts', y='music', data=dating_data_df)"
   ]
  }
 ],
 "metadata": {
  "kernelspec": {
   "display_name": "Python 3",
   "language": "python",
   "name": "python3"
  },
  "language_info": {
   "codemirror_mode": {
    "name": "ipython",
    "version": 3
   },
   "file_extension": ".py",
   "mimetype": "text/x-python",
   "name": "python",
   "nbconvert_exporter": "python",
   "pygments_lexer": "ipython3",
   "version": "3.7.3"
  }
 },
 "nbformat": 4,
 "nbformat_minor": 2
}
